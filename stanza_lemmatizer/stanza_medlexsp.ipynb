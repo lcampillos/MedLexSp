{
 "cells": [
  {
   "cell_type": "markdown",
   "id": "fda08532",
   "metadata": {},
   "source": [
    "## Part-of-speech tagging and lemmatization with [Stanza NLP](https://stanfordnlp.github.io/stanza/) and MedLexSp\n",
    "\n",
    "Workspace requirements:\n",
    "- Python 3.7+\n",
    "- Stanza NLP: tested with version 1.4.0"
   ]
  },
  {
   "cell_type": "markdown",
   "id": "f2256f2d",
   "metadata": {},
   "source": [
    "#### Import modules and tools"
   ]
  },
  {
   "cell_type": "code",
   "execution_count": 1,
   "id": "e8de4c2d",
   "metadata": {},
   "outputs": [],
   "source": [
    "import stanza\n",
    "import pickle"
   ]
  },
  {
   "cell_type": "code",
   "execution_count": 2,
   "id": "bd06d499",
   "metadata": {},
   "outputs": [],
   "source": [
    "# Helper functions to change label names and format\n",
    "\n",
    "def format_pos_name(POS_label_name,predicted_POS):\n",
    "\n",
    "    ''' Given the name of a part-of-speech tag in MedLexSp dictionary, changes the tag name according to Universal Dependencies used in Spacy / Stanza. \n",
    "        In case several tags are possible, the part-of-speech prediction is used to disambigate. \n",
    "        E.g. \"ADJ;N\" (tag name in MedLexSp) and \"ADJ\" (predicted tag) => output \"ADJ\". \n",
    "        E.g. \"N;NPR\" -> \"NOUN\" or \"PROPN\", \"ADJ;N\" -> \"ADJ\" or \"NOUN\"\n",
    "        MedLexSp category \"AFF\" has not an equivalent category in Spacy / Stanza.\n",
    "    '''\n",
    "    # keys are MedLexSp PoS codes, values are Spacy / Stanza labels\n",
    "    POSFormat = {'ADJ': 'ADJ', 'ADV': 'ADV', 'N': 'NOUN', 'PREP': 'ADP', 'V': 'VERB', 'art': 'DET', 'NPR': 'PROPN'}\n",
    "\n",
    "    if ((POS_label_name == \"ADJ;ADV\") and (predicted_POS == \"ADV\")):\n",
    "        return POSFormat['ADV']\n",
    "    elif ((POS_label_name == \"ADJ;ADV\") and (predicted_POS == \"ADJ\")):\n",
    "        return POSFormat['ADJ']\n",
    "    elif ((POS_label_name == \"N;NPR\") and (predicted_POS == \"NOUN\")):\n",
    "        return POSFormat['N']\n",
    "    elif ((POS_label_name == \"N;NPR\") and (predicted_POS == \"PROPN\")):\n",
    "        return POSFormat['NPR']\n",
    "    elif ((POS_label_name == \"ADJ;N\") and (predicted_POS == \"ADJ\")):\n",
    "        return POSFormat['ADJ']\n",
    "    elif ((POS_label_name == \"ADJ;N\") and (predicted_POS == \"NOUN\")):\n",
    "        return POSFormat['N']\n",
    "    else:\n",
    "        return POSFormat[POS_label_name]\n",
    "\n",
    "\n",
    "def get_pos_from_lexicon(word,predicted_POS,POSDict):\n",
    "    \n",
    "    ''' Function to get part-of-speech category from MedLexSp lexicon '''\n",
    "\n",
    "    try:\n",
    "        word = word.lower()\n",
    "        if POSDict[word]:\n",
    "            TuplesList = POSDict[word]\n",
    "            # Look up the dictionary using the PoS tag, if several categories are possible: \"curva\": [('ADJ', 'curvo'), ('N', 'curva')]\n",
    "            if len(TuplesList)>1:\n",
    "                # Default value (in case the following step fails)\n",
    "                POS = TuplesList[0][0]\n",
    "                lemma = TuplesList[0][1]\n",
    "                # Take the lemma according to PoS predicted by Stanza/Spacy\n",
    "                for Tuple in TuplesList:\n",
    "                    POS = Tuple[0]\n",
    "                    if format_pos_name(POS,predicted_POS) == predicted_POS:\n",
    "                        lemma = Tuple[1]\n",
    "                        return format_pos_name(POS,predicted_POS), lemma\n",
    "            else:\n",
    "                POS=TuplesList[0][0]\n",
    "                lemma=TuplesList[0][1]\n",
    "\n",
    "            return format_pos_name(POS,predicted_POS),lemma\n",
    "    except:\n",
    "        return None\n"
   ]
  },
  {
   "cell_type": "code",
   "execution_count": 4,
   "id": "5dd1d815",
   "metadata": {},
   "outputs": [
    {
     "name": "stdout",
     "output_type": "stream",
     "text": [
      "('vientre', [('N', 'vientre')])\n",
      "('vientres', [('N', 'vientre')])\n",
      "('aa', [('N', 'aa'), ('NPR', 'aa'), ('N', 'aab')])\n",
      "('retortijón', [('N', 'retortijón')])\n",
      "('retortijones', [('N', 'retortijón')])\n",
      "('abdominalgia', [('N', 'abdominalgia')])\n",
      "('abdominalgias', [('N', 'abdominalgia')])\n",
      "('dab', [('N', 'dab')])\n",
      "('abetalipoproteinemia', [('N', 'abetalipoproteinemia')])\n",
      "('abetalipoproteinémico', [('ADJ', 'abetalipoproteinémico')])\n"
     ]
    }
   ],
   "source": [
    "# Load POS data from MedLexSp\n",
    "POSDataFile = open(\"MedLexSpPOS.pickle\",'rb')\n",
    "POSData = pickle.load(POSDataFile)\n",
    "\n",
    "for k in list(POSData.items())[100:110]:\n",
    "    print(k)\n"
   ]
  },
  {
   "cell_type": "markdown",
   "id": "ff4a04d5",
   "metadata": {},
   "source": [
    "### Part-of-speech tagging and lemmatization without MedLexSp"
   ]
  },
  {
   "cell_type": "code",
   "execution_count": 5,
   "id": "7939abd7",
   "metadata": {},
   "outputs": [],
   "source": [
    "# Load Spanish model\n",
    "nlp = stanza.Pipeline('es', processors='tokenize,pos,lemma', verbose=False, use_gpu=False, download_method=None)"
   ]
  },
  {
   "cell_type": "code",
   "execution_count": 12,
   "id": "c4a9c1dd",
   "metadata": {},
   "outputs": [],
   "source": [
    "# Sentence\n",
    "text = \"Se realizó un PSA total que fue normal. Se explora el páncreas.\""
   ]
  },
  {
   "cell_type": "code",
   "execution_count": 11,
   "id": "6f2582e1",
   "metadata": {},
   "outputs": [
    {
     "name": "stdout",
     "output_type": "stream",
     "text": [
      "Se\tse\tPRON\n",
      "realizó\trealizar\tVERB\n",
      "un\tuno\tDET\n",
      "PSA\tPSA\tPROPN\n",
      "total\ttotal\tADJ\n",
      "que\tque\tPRON\n",
      "fue\tser\tAUX\n",
      "normal\tnormal\tADJ\n",
      ".\t.\tPUNCT\n",
      "Se\tse\tPRON\n",
      "explora\texplorar\tVERB\n",
      "el\tel\tDET\n",
      "páncreas\tpáncrea\tNOUN\n"
     ]
    }
   ],
   "source": [
    "# Use Stanza model to process sentence\n",
    "doc = nlp(text)\n",
    "\n",
    "for i,sentence in enumerate(doc.sentences):\n",
    "    for token in sentence.words:\n",
    "        print(token.text,token.lemma,token.pos, sep=\"\\t\")"
   ]
  },
  {
   "cell_type": "markdown",
   "id": "5a7d1f26",
   "metadata": {},
   "source": [
    "Note the PoS error in \"PSA\" (PROPN), and the lemmatization error in \"páncreas\" (the lemma is not \"páncrea\", but \"páncreas\")"
   ]
  },
  {
   "cell_type": "markdown",
   "id": "4798b40c",
   "metadata": {},
   "source": [
    "### Part-of-speech tagging and lemmatization with MedLexSp"
   ]
  },
  {
   "cell_type": "code",
   "execution_count": 13,
   "id": "d4be1af6",
   "metadata": {},
   "outputs": [
    {
     "name": "stdout",
     "output_type": "stream",
     "text": [
      "Se\tse\tPRON\n",
      "realizó\trealizar\tVERB\n",
      "un\tuno\tDET\n",
      "PSA\tpsa\tNOUN\n",
      "total\ttotal\tADJ\n",
      "que\tque\tPRON\n",
      "fue\tser\tAUX\n",
      "normal\tnormal\tADJ\n",
      ".\t.\tPUNCT\n",
      "Se\tse\tPRON\n",
      "explora\texplorar\tVERB\n",
      "el\tel\tDET\n",
      "páncreas\tpáncreas\tNOUN\n",
      ".\t.\tPUNCT\n"
     ]
    }
   ],
   "source": [
    "# Use model to process sentence\n",
    "doc = nlp(text)\n",
    "\n",
    "for i,sentence in enumerate(doc.sentences):\n",
    "    for token in sentence.words:\n",
    "        pos = token.pos\n",
    "        lemma = token.lemma\n",
    "        token = token.text\n",
    "        # Get POS category from MedLexSp lexicon; if not available, use Stanza POS\n",
    "        if get_pos_from_lexicon(token.lower(),pos,POSData):\n",
    "            pos, lemma = get_pos_from_lexicon(token,pos,POSData)\n",
    "        print(token,lemma,pos, sep=\"\\t\")"
   ]
  },
  {
   "cell_type": "markdown",
   "id": "5bdd0bc5",
   "metadata": {},
   "source": [
    "Note the correct PoS of \"PSA\" (NOUN), and the correct lemmatization of \"páncreas\""
   ]
  }
 ],
 "metadata": {
  "kernelspec": {
   "display_name": "Python 3.7",
   "language": "python",
   "name": "python3-7"
  },
  "language_info": {
   "codemirror_mode": {
    "name": "ipython",
    "version": 3
   },
   "file_extension": ".py",
   "mimetype": "text/x-python",
   "name": "python",
   "nbconvert_exporter": "python",
   "pygments_lexer": "ipython3",
   "version": "3.7.10"
  }
 },
 "nbformat": 4,
 "nbformat_minor": 5
}
